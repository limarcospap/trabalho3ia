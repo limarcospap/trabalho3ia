{
 "cells": [
  {
   "cell_type": "code",
   "execution_count": 2,
   "metadata": {},
   "outputs": [],
   "source": [
    "import numpy as np\n",
    "import pandas as pd\n",
    "\n",
    "from matplotlib import pyplot as plt\n",
    "from sklearn.model_selection import train_test_split\n",
    "from sklearn.ensemble import RandomForestClassifier\n",
    "from boruta import BorutaPy\n",
    "from sklearn.ensemble import RandomForestClassifier"
   ]
  },
  {
   "cell_type": "code",
   "execution_count": 3,
   "metadata": {},
   "outputs": [],
   "source": [
    "#Primeiramente, o arquivo CSV será transformado em um dataframe do Pandas.\n",
    "\n",
    "dataSet = pd.read_csv('data.csv')"
   ]
  },
  {
   "cell_type": "code",
   "execution_count": 4,
   "metadata": {},
   "outputs": [],
   "source": [
    "#Vamos analisar algumas informações importantes a respeito dos dados inicialmente sem nenhum tratamento.\n",
    "#dataSet.info()"
   ]
  },
  {
   "cell_type": "markdown",
   "metadata": {},
   "source": [
    "Olhando para o resultado acima, podemos observar que existem 18207 linhas que deveriam conter algum dado para pelo menos um atributo. Inicialmente, é relevante retirarmos:\n",
    "1 - atributos de idenficação (pois eles são de caráter subjetivo e não influenciam as variáveis que iremos analisar);\n",
    "2 - atributos que a transformação para número seria difícil e subjetiva (Club, por exemplo)"
   ]
  },
  {
   "cell_type": "code",
   "execution_count": 5,
   "metadata": {},
   "outputs": [],
   "source": [
    "features = [\n",
    "    'Crossing', 'Finishing', 'HeadingAccuracy', 'ShortPassing', 'Volleys', 'Dribbling', 'Curve', 'FKAccuracy', 'LongPassing', 'BallControl', 'Acceleration', 'SprintSpeed', 'Agility', 'Reactions', 'Balance', 'ShotPower', 'Jumping', 'Stamina', 'Strength', 'LongShots', 'Aggression', 'Interceptions', 'Positioning', 'Vision', 'Penalties', 'Composure', 'Marking', 'StandingTackle', 'SlidingTackle', 'GKDiving', 'GKHandling', 'GKKicking', 'GKPositioning', 'GKReflexes','Weak Foot','Work Rate', 'Position', 'Preferred Foot' ,'International Reputation', 'Overall',\n",
    "           'Potential','Age','Value','Wage','Skill Moves'\n",
    "]\n",
    "\n",
    "dataSetEnxuto = dataSet[features]"
   ]
  },
  {
   "cell_type": "markdown",
   "metadata": {},
   "source": [
    "Alguns jogadores, provavelmente por serem recentemente adicionados, possuem valor e salário zero. Poderiamos retirar essas colunas, o que não será feito pois elas podem ser importantes para a classificação dos dados. Poderiamos calcular ou estimar esses valores, o que nos levaria a erros ou a um trabalho manual talvez desnecessário ou podemos simplesmente retirar esses jogadores."
   ]
  },
  {
   "cell_type": "code",
   "execution_count": 6,
   "metadata": {},
   "outputs": [
    {
     "name": "stdout",
     "output_type": "stream",
     "text": [
      "493\n"
     ]
    }
   ],
   "source": [
    "counterValue = 0\n",
    "counterWage = 0 \n",
    "\n",
    "for wage in dataSetEnxuto['Wage']:\n",
    "    if wage == '€0':\n",
    "        counterWage += 1\n",
    "\n",
    "for value in dataSetEnxuto['Value']:\n",
    "    if value == '€0':\n",
    "        counterValue += 1\n",
    "        \n",
    "print(counterValue + counterWage)"
   ]
  },
  {
   "cell_type": "markdown",
   "metadata": {},
   "source": [
    "Veja que temos no máximo 493 jogadores com 'Value' ou 'Wage' igual a '€0', o que representa aproximadamente 2,7% do total de jogadores do dataSet. Dessa forma, vamos apenas retirar esses jogadores."
   ]
  },
  {
   "cell_type": "code",
   "execution_count": 7,
   "metadata": {},
   "outputs": [],
   "source": [
    "dataSetEnxuto = dataSetEnxuto[dataSetEnxuto['Wage'] != '€0']\n",
    "dataSetEnxuto = dataSetEnxuto[dataSetEnxuto['Value'] != '€0']"
   ]
  },
  {
   "cell_type": "markdown",
   "metadata": {},
   "source": [
    "Agora, vamos retirar o valores que estão faltando na nossa base de dados:"
   ]
  },
  {
   "cell_type": "code",
   "execution_count": 8,
   "metadata": {},
   "outputs": [],
   "source": [
    "dataSetEnxuto.dropna(inplace=True)"
   ]
  },
  {
   "cell_type": "markdown",
   "metadata": {},
   "source": [
    "Os atributos Preferred Foot e Position são categóricos. Por esse motivo, iremos usar dummy variables para representar seus valores numericamente:"
   ]
  },
  {
   "cell_type": "code",
   "execution_count": 9,
   "metadata": {},
   "outputs": [],
   "source": [
    "atributos_categoricos = ['Position', 'Preferred Foot']\n",
    "\n",
    "dataSetProcessado = pd.get_dummies(dataSetEnxuto, columns = atributos_categoricos, drop_first=True)"
   ]
  },
  {
   "cell_type": "markdown",
   "metadata": {},
   "source": [
    "Vamos dividir a coluna 'Work Rate' em duas:"
   ]
  },
  {
   "cell_type": "code",
   "execution_count": 10,
   "metadata": {},
   "outputs": [],
   "source": [
    "dataSetProcessado['Defense Work Rate'] = dataSetProcessado['Work Rate'].apply(lambda x: str(x).split('/ ')[0])\n",
    "dataSetProcessado['Attack Work Rate'] = dataSetProcessado['Work Rate'].apply(lambda x: str(x).split('/ ')[-1])\n",
    "dataSetProcessado.drop('Work Rate',axis=1, inplace=True)"
   ]
  },
  {
   "cell_type": "code",
   "execution_count": 11,
   "metadata": {},
   "outputs": [],
   "source": [
    "#Função que converte os valores em libras para número:\n",
    "\n",
    "def value_to_float(value):\n",
    "    aux = value.split('€')[1]\n",
    "    if aux[-1] == 'K':\n",
    "        return float(aux[:-1])*1000\n",
    "    elif aux[-1] == 'M':\n",
    "        return float(aux[:-1])*1000000\n",
    "    else:\n",
    "        return float(aux)"
   ]
  },
  {
   "cell_type": "code",
   "execution_count": 12,
   "metadata": {},
   "outputs": [],
   "source": [
    "dataSetProcessado['Value'] = dataSetProcessado['Value'].apply(value_to_float)\n",
    "dataSetProcessado['Wage'] = dataSetProcessado['Wage'].apply(value_to_float)\n",
    "\n",
    "dataSetProcessado['Defense Work Rate'] = dataSetProcessado['Defense Work Rate'].map({'Low':1,'Medium':2,'High':3})\n",
    "dataSetProcessado['Attack Work Rate'] = dataSetProcessado['Attack Work Rate'].map({'Low':1,'Medium':2,'High':3})"
   ]
  },
  {
   "cell_type": "markdown",
   "metadata": {},
   "source": [
    "Primeiro vamos retirar a coluna que queremos classificar do conjunto de dados processado acima:"
   ]
  },
  {
   "cell_type": "code",
   "execution_count": 13,
   "metadata": {},
   "outputs": [],
   "source": [
    "X = dataSetProcessado.drop('Skill Moves',axis=1)\n",
    "y = dataSetProcessado['Skill Moves']\n",
    "\n",
    "X_train, X_test, y_train, y_test = train_test_split(X, y, test_size=0.2, random_state=42)"
   ]
  },
  {
   "cell_type": "markdown",
   "metadata": {},
   "source": [
    "Agora iremos utilizar o algoritmo BorutaPy para selecionar as features mais importantes do conjunto de dados."
   ]
  },
  {
   "cell_type": "code",
   "execution_count": 15,
   "metadata": {},
   "outputs": [
    {
     "name": "stdout",
     "output_type": "stream",
     "text": [
      "Iteration: \t1 / 100\n",
      "Confirmed: \t0\n",
      "Tentative: \t70\n",
      "Rejected: \t0\n",
      "Iteration: \t2 / 100\n",
      "Confirmed: \t0\n",
      "Tentative: \t70\n",
      "Rejected: \t0\n",
      "Iteration: \t3 / 100\n",
      "Confirmed: \t0\n",
      "Tentative: \t70\n",
      "Rejected: \t0\n",
      "Iteration: \t4 / 100\n",
      "Confirmed: \t0\n",
      "Tentative: \t70\n",
      "Rejected: \t0\n",
      "Iteration: \t5 / 100\n",
      "Confirmed: \t0\n",
      "Tentative: \t70\n",
      "Rejected: \t0\n",
      "Iteration: \t6 / 100\n",
      "Confirmed: \t0\n",
      "Tentative: \t70\n",
      "Rejected: \t0\n",
      "Iteration: \t7 / 100\n",
      "Confirmed: \t0\n",
      "Tentative: \t70\n",
      "Rejected: \t0\n",
      "Iteration: \t8 / 100\n",
      "Confirmed: \t38\n",
      "Tentative: \t2\n",
      "Rejected: \t30\n",
      "Iteration: \t9 / 100\n",
      "Confirmed: \t38\n",
      "Tentative: \t2\n",
      "Rejected: \t30\n",
      "Iteration: \t10 / 100\n",
      "Confirmed: \t38\n",
      "Tentative: \t2\n",
      "Rejected: \t30\n",
      "Iteration: \t11 / 100\n",
      "Confirmed: \t38\n",
      "Tentative: \t2\n",
      "Rejected: \t30\n",
      "Iteration: \t12 / 100\n",
      "Confirmed: \t38\n",
      "Tentative: \t2\n",
      "Rejected: \t30\n",
      "Iteration: \t13 / 100\n",
      "Confirmed: \t38\n",
      "Tentative: \t2\n",
      "Rejected: \t30\n",
      "Iteration: \t14 / 100\n",
      "Confirmed: \t38\n",
      "Tentative: \t2\n",
      "Rejected: \t30\n",
      "Iteration: \t15 / 100\n",
      "Confirmed: \t38\n",
      "Tentative: \t2\n",
      "Rejected: \t30\n",
      "Iteration: \t16 / 100\n",
      "Confirmed: \t38\n",
      "Tentative: \t2\n",
      "Rejected: \t30\n",
      "Iteration: \t17 / 100\n",
      "Confirmed: \t38\n",
      "Tentative: \t1\n",
      "Rejected: \t31\n",
      "Iteration: \t18 / 100\n",
      "Confirmed: \t38\n",
      "Tentative: \t1\n",
      "Rejected: \t31\n",
      "Iteration: \t19 / 100\n",
      "Confirmed: \t38\n",
      "Tentative: \t1\n",
      "Rejected: \t31\n",
      "Iteration: \t20 / 100\n",
      "Confirmed: \t38\n",
      "Tentative: \t1\n",
      "Rejected: \t31\n",
      "Iteration: \t21 / 100\n",
      "Confirmed: \t38\n",
      "Tentative: \t1\n",
      "Rejected: \t31\n",
      "Iteration: \t22 / 100\n",
      "Confirmed: \t38\n",
      "Tentative: \t1\n",
      "Rejected: \t31\n",
      "Iteration: \t23 / 100\n",
      "Confirmed: \t38\n",
      "Tentative: \t1\n",
      "Rejected: \t31\n",
      "Iteration: \t24 / 100\n",
      "Confirmed: \t38\n",
      "Tentative: \t1\n",
      "Rejected: \t31\n",
      "Iteration: \t25 / 100\n",
      "Confirmed: \t38\n",
      "Tentative: \t1\n",
      "Rejected: \t31\n",
      "Iteration: \t26 / 100\n",
      "Confirmed: \t38\n",
      "Tentative: \t1\n",
      "Rejected: \t31\n",
      "Iteration: \t27 / 100\n",
      "Confirmed: \t38\n",
      "Tentative: \t1\n",
      "Rejected: \t31\n",
      "Iteration: \t28 / 100\n",
      "Confirmed: \t38\n",
      "Tentative: \t1\n",
      "Rejected: \t31\n",
      "Iteration: \t29 / 100\n",
      "Confirmed: \t38\n",
      "Tentative: \t1\n",
      "Rejected: \t31\n",
      "Iteration: \t30 / 100\n",
      "Confirmed: \t38\n",
      "Tentative: \t1\n",
      "Rejected: \t31\n",
      "Iteration: \t31 / 100\n",
      "Confirmed: \t38\n",
      "Tentative: \t1\n",
      "Rejected: \t31\n",
      "Iteration: \t32 / 100\n",
      "Confirmed: \t38\n",
      "Tentative: \t1\n",
      "Rejected: \t31\n",
      "Iteration: \t33 / 100\n",
      "Confirmed: \t38\n",
      "Tentative: \t1\n",
      "Rejected: \t31\n",
      "Iteration: \t34 / 100\n",
      "Confirmed: \t38\n",
      "Tentative: \t1\n",
      "Rejected: \t31\n",
      "Iteration: \t35 / 100\n",
      "Confirmed: \t38\n",
      "Tentative: \t1\n",
      "Rejected: \t31\n",
      "Iteration: \t36 / 100\n",
      "Confirmed: \t38\n",
      "Tentative: \t1\n",
      "Rejected: \t31\n",
      "Iteration: \t37 / 100\n",
      "Confirmed: \t38\n",
      "Tentative: \t1\n",
      "Rejected: \t31\n",
      "Iteration: \t38 / 100\n",
      "Confirmed: \t38\n",
      "Tentative: \t1\n",
      "Rejected: \t31\n",
      "Iteration: \t39 / 100\n",
      "Confirmed: \t38\n",
      "Tentative: \t1\n",
      "Rejected: \t31\n",
      "Iteration: \t40 / 100\n",
      "Confirmed: \t38\n",
      "Tentative: \t1\n",
      "Rejected: \t31\n",
      "Iteration: \t41 / 100\n",
      "Confirmed: \t38\n",
      "Tentative: \t1\n",
      "Rejected: \t31\n",
      "Iteration: \t42 / 100\n",
      "Confirmed: \t38\n",
      "Tentative: \t1\n",
      "Rejected: \t31\n",
      "Iteration: \t43 / 100\n",
      "Confirmed: \t38\n",
      "Tentative: \t1\n",
      "Rejected: \t31\n",
      "Iteration: \t44 / 100\n",
      "Confirmed: \t38\n",
      "Tentative: \t1\n",
      "Rejected: \t31\n",
      "Iteration: \t45 / 100\n",
      "Confirmed: \t38\n",
      "Tentative: \t1\n",
      "Rejected: \t31\n",
      "Iteration: \t46 / 100\n",
      "Confirmed: \t38\n",
      "Tentative: \t1\n",
      "Rejected: \t31\n",
      "Iteration: \t47 / 100\n",
      "Confirmed: \t38\n",
      "Tentative: \t1\n",
      "Rejected: \t31\n",
      "Iteration: \t48 / 100\n",
      "Confirmed: \t38\n",
      "Tentative: \t1\n",
      "Rejected: \t31\n",
      "Iteration: \t49 / 100\n",
      "Confirmed: \t38\n",
      "Tentative: \t1\n",
      "Rejected: \t31\n",
      "Iteration: \t50 / 100\n",
      "Confirmed: \t38\n",
      "Tentative: \t1\n",
      "Rejected: \t31\n",
      "Iteration: \t51 / 100\n",
      "Confirmed: \t38\n",
      "Tentative: \t1\n",
      "Rejected: \t31\n",
      "Iteration: \t52 / 100\n",
      "Confirmed: \t38\n",
      "Tentative: \t1\n",
      "Rejected: \t31\n",
      "Iteration: \t53 / 100\n",
      "Confirmed: \t38\n",
      "Tentative: \t1\n",
      "Rejected: \t31\n",
      "Iteration: \t54 / 100\n",
      "Confirmed: \t38\n",
      "Tentative: \t1\n",
      "Rejected: \t31\n",
      "Iteration: \t55 / 100\n",
      "Confirmed: \t38\n",
      "Tentative: \t1\n",
      "Rejected: \t31\n",
      "Iteration: \t56 / 100\n",
      "Confirmed: \t38\n",
      "Tentative: \t1\n",
      "Rejected: \t31\n",
      "Iteration: \t57 / 100\n",
      "Confirmed: \t38\n",
      "Tentative: \t1\n",
      "Rejected: \t31\n",
      "Iteration: \t58 / 100\n",
      "Confirmed: \t38\n",
      "Tentative: \t1\n",
      "Rejected: \t31\n",
      "Iteration: \t59 / 100\n",
      "Confirmed: \t38\n",
      "Tentative: \t1\n",
      "Rejected: \t31\n",
      "Iteration: \t60 / 100\n",
      "Confirmed: \t38\n",
      "Tentative: \t1\n",
      "Rejected: \t31\n",
      "Iteration: \t61 / 100\n",
      "Confirmed: \t38\n",
      "Tentative: \t1\n",
      "Rejected: \t31\n",
      "Iteration: \t62 / 100\n",
      "Confirmed: \t38\n",
      "Tentative: \t1\n",
      "Rejected: \t31\n",
      "Iteration: \t63 / 100\n",
      "Confirmed: \t38\n",
      "Tentative: \t1\n",
      "Rejected: \t31\n",
      "Iteration: \t64 / 100\n",
      "Confirmed: \t38\n",
      "Tentative: \t1\n",
      "Rejected: \t31\n",
      "Iteration: \t65 / 100\n",
      "Confirmed: \t38\n",
      "Tentative: \t1\n",
      "Rejected: \t31\n",
      "Iteration: \t66 / 100\n",
      "Confirmed: \t38\n",
      "Tentative: \t1\n",
      "Rejected: \t31\n",
      "Iteration: \t67 / 100\n",
      "Confirmed: \t38\n",
      "Tentative: \t1\n",
      "Rejected: \t31\n",
      "Iteration: \t68 / 100\n",
      "Confirmed: \t38\n",
      "Tentative: \t1\n",
      "Rejected: \t31\n",
      "Iteration: \t69 / 100\n",
      "Confirmed: \t38\n",
      "Tentative: \t1\n",
      "Rejected: \t31\n",
      "Iteration: \t70 / 100\n",
      "Confirmed: \t38\n",
      "Tentative: \t1\n",
      "Rejected: \t31\n",
      "Iteration: \t71 / 100\n",
      "Confirmed: \t38\n",
      "Tentative: \t1\n",
      "Rejected: \t31\n",
      "Iteration: \t72 / 100\n",
      "Confirmed: \t38\n",
      "Tentative: \t1\n",
      "Rejected: \t31\n",
      "Iteration: \t73 / 100\n",
      "Confirmed: \t38\n",
      "Tentative: \t1\n",
      "Rejected: \t31\n",
      "Iteration: \t74 / 100\n",
      "Confirmed: \t38\n",
      "Tentative: \t1\n",
      "Rejected: \t31\n",
      "Iteration: \t75 / 100\n",
      "Confirmed: \t38\n",
      "Tentative: \t1\n",
      "Rejected: \t31\n",
      "Iteration: \t76 / 100\n",
      "Confirmed: \t38\n",
      "Tentative: \t1\n",
      "Rejected: \t31\n",
      "Iteration: \t77 / 100\n",
      "Confirmed: \t38\n",
      "Tentative: \t1\n",
      "Rejected: \t31\n",
      "Iteration: \t78 / 100\n",
      "Confirmed: \t38\n",
      "Tentative: \t1\n",
      "Rejected: \t31\n",
      "Iteration: \t79 / 100\n",
      "Confirmed: \t38\n",
      "Tentative: \t1\n",
      "Rejected: \t31\n",
      "Iteration: \t80 / 100\n",
      "Confirmed: \t38\n",
      "Tentative: \t1\n",
      "Rejected: \t31\n",
      "Iteration: \t81 / 100\n",
      "Confirmed: \t38\n",
      "Tentative: \t1\n",
      "Rejected: \t31\n",
      "Iteration: \t82 / 100\n",
      "Confirmed: \t38\n",
      "Tentative: \t1\n",
      "Rejected: \t31\n",
      "Iteration: \t83 / 100\n",
      "Confirmed: \t38\n",
      "Tentative: \t1\n",
      "Rejected: \t31\n",
      "Iteration: \t84 / 100\n",
      "Confirmed: \t38\n",
      "Tentative: \t1\n",
      "Rejected: \t31\n",
      "Iteration: \t85 / 100\n",
      "Confirmed: \t38\n",
      "Tentative: \t1\n",
      "Rejected: \t31\n",
      "Iteration: \t86 / 100\n",
      "Confirmed: \t38\n",
      "Tentative: \t1\n",
      "Rejected: \t31\n",
      "Iteration: \t87 / 100\n",
      "Confirmed: \t38\n",
      "Tentative: \t1\n",
      "Rejected: \t31\n",
      "Iteration: \t88 / 100\n",
      "Confirmed: \t38\n",
      "Tentative: \t1\n",
      "Rejected: \t31\n",
      "Iteration: \t89 / 100\n",
      "Confirmed: \t38\n",
      "Tentative: \t1\n",
      "Rejected: \t31\n",
      "Iteration: \t90 / 100\n",
      "Confirmed: \t38\n",
      "Tentative: \t1\n",
      "Rejected: \t31\n",
      "Iteration: \t91 / 100\n",
      "Confirmed: \t38\n",
      "Tentative: \t1\n",
      "Rejected: \t31\n",
      "Iteration: \t92 / 100\n",
      "Confirmed: \t38\n",
      "Tentative: \t1\n",
      "Rejected: \t31\n",
      "Iteration: \t93 / 100\n",
      "Confirmed: \t38\n",
      "Tentative: \t1\n",
      "Rejected: \t31\n",
      "Iteration: \t94 / 100\n",
      "Confirmed: \t38\n",
      "Tentative: \t1\n",
      "Rejected: \t31\n",
      "Iteration: \t95 / 100\n",
      "Confirmed: \t38\n",
      "Tentative: \t1\n",
      "Rejected: \t31\n",
      "Iteration: \t96 / 100\n",
      "Confirmed: \t38\n",
      "Tentative: \t1\n",
      "Rejected: \t31\n",
      "Iteration: \t97 / 100\n",
      "Confirmed: \t38\n",
      "Tentative: \t1\n",
      "Rejected: \t31\n",
      "Iteration: \t98 / 100\n",
      "Confirmed: \t38\n",
      "Tentative: \t1\n",
      "Rejected: \t31\n",
      "Iteration: \t99 / 100\n",
      "Confirmed: \t38\n",
      "Tentative: \t1\n",
      "Rejected: \t31\n",
      "\n",
      "\n",
      "BorutaPy finished running.\n",
      "\n",
      "Iteration: \t100 / 100\n",
      "Confirmed: \t38\n",
      "Tentative: \t1\n",
      "Rejected: \t31\n"
     ]
    }
   ],
   "source": [
    "#Aqui pegamos apenas os valores do Data Frame, pois o BorutaPy usa arrays do numpy.\n",
    "X_train_np = X_train.values\n",
    "y_train_np = y_train.values\n",
    "\n",
    "#Criamos o objeto Random Forest que será utilizado\n",
    "rf = RandomForestClassifier(n_jobs=-1, class_weight='balanced', max_depth=5)\n",
    "\n",
    "# Define o método de seleção de feature do Boruta\n",
    "feat_selector = BorutaPy(rf, n_estimators='auto', verbose=2, random_state=1)\n",
    "\n",
    "# Encontramos as features relevantes\n",
    "feat_selector.fit(X_train_np, y_train_np)\n",
    "\n",
    "# Checamos as features escolhidas\n",
    "feat_selector.support_\n",
    "\n",
    "# Checamos a classificação das features\n",
    "feat_selector.ranking_\n",
    "\n",
    "# Vamos utilizar a função transform() em X para filtrar as features selecionadas\n",
    "\n",
    "X_filtered = feat_selector.transform(X_train_np)"
   ]
  },
  {
   "cell_type": "code",
   "execution_count": 14,
   "metadata": {},
   "outputs": [],
   "source": [
    "#Use o comando abaixo pra gerar os histogramas\n",
    "#X['Finishing'].hist(bins=30)"
   ]
  },
  {
   "cell_type": "code",
   "execution_count": 15,
   "metadata": {},
   "outputs": [],
   "source": [
    "relevantes = ['Crossing', 'Finishing', 'HeadingAccuracy', 'ShortPassing', 'Volleys', 'Dribbling', 'Curve', 'FKAccuracy', 'LongPassing', 'BallControl', 'Acceleration', 'SprintSpeed', 'Agility', 'Reactions', 'Balance', 'ShotPower', 'Stamina', 'Strength', 'LongShots', 'Interceptions', 'Positioning', 'Vision', 'Penalties', 'Composure', 'Marking', 'StandingTackle', 'SlidingTackle', 'GKDiving', 'GKHandling', 'GKKicking', 'GKPositioning', 'GKReflexes', 'International Reputation', 'Overall', 'Potential', 'Value', 'Wage', 'Position_GK']\n",
    "\n",
    "X_DF_train_Filtrado = X_train[relevantes]\n",
    "X_DF_test_Filtrado = X_test[relevantes]"
   ]
  },
  {
   "cell_type": "code",
   "execution_count": 35,
   "metadata": {},
   "outputs": [],
   "source": [
    "#DF com as estatísticas dos dados realmente relevantes\n",
    "\n",
    "estatisticas = X_DF_train_Filtrado.describe()"
   ]
  },
  {
   "cell_type": "markdown",
   "metadata": {},
   "source": [
    "A partir daqui faremos as predições usando o KNN como classificador."
   ]
  },
  {
   "cell_type": "code",
   "execution_count": 50,
   "metadata": {},
   "outputs": [],
   "source": [
    "import sklearn.neighbors\n",
    "\n",
    "knn_model = sklearn.neighbors.KNeighborsClassifier(n_neighbors=8)"
   ]
  },
  {
   "cell_type": "markdown",
   "metadata": {},
   "source": [
    "Vamos usar CV para estimar melhor o valor de K a ser utilizado:"
   ]
  },
  {
   "cell_type": "code",
   "execution_count": 56,
   "metadata": {},
   "outputs": [],
   "source": [
    "from sklearn.model_selection import *"
   ]
  },
  {
   "cell_type": "code",
   "execution_count": 57,
   "metadata": {},
   "outputs": [
    {
     "name": "stdout",
     "output_type": "stream",
     "text": [
      "Score:  0.4960528445337909 +/- 0.02307429753847063\n"
     ]
    }
   ],
   "source": [
    "cv_scores_knn = cross_val_score(knn_model, X_DF_train_Filtrado.values, y_train.values, cv = 5,  scoring='f1_macro')\n",
    "print(\"Score: \",cv_scores_knn.mean(),\"+/-\",cv_scores_knn.std())"
   ]
  },
  {
   "cell_type": "markdown",
   "metadata": {},
   "source": [
    "Agora vamos aplicar nosso modelo ao conjunto de teste"
   ]
  },
  {
   "cell_type": "code",
   "execution_count": null,
   "metadata": {},
   "outputs": [],
   "source": [
    "\"\"\"\n",
    "knn_model.fit(X_DF_train_Filtrado.values, y_train.values)\n",
    "knn_prediction = knn_model.predict(X_DF_test_Filtrado.values)\n",
    "from sklearn.metrics import f1_score\n",
    "print(f1_score(y_test.values, knn_prediction, average='macro'))\n",
    "\"\"\""
   ]
  },
  {
   "cell_type": "code",
   "execution_count": null,
   "metadata": {},
   "outputs": [],
   "source": [
    "cross_val_predict(X_DF_test_Filtrado.values, y_test.values)"
   ]
  },
  {
   "cell_type": "markdown",
   "metadata": {},
   "source": [
    "Vamos usar NB pra classificar os dados:"
   ]
  },
  {
   "cell_type": "code",
   "execution_count": 59,
   "metadata": {},
   "outputs": [
    {
     "data": {
      "text/plain": [
       "GaussianNB(priors=None, var_smoothing=1e-09)"
      ]
     },
     "execution_count": 59,
     "metadata": {},
     "output_type": "execute_result"
    }
   ],
   "source": [
    "from sklearn.naive_bayes import GaussianNB\n",
    "gnb_model = GaussianNB()\n",
    "gnb_model.fit(X_DF_train_Filtrado.values, y_train.values)"
   ]
  },
  {
   "cell_type": "code",
   "execution_count": 60,
   "metadata": {},
   "outputs": [
    {
     "name": "stdout",
     "output_type": "stream",
     "text": [
      "0.25739733443409907\n"
     ]
    }
   ],
   "source": [
    "gnb_prediction = gnb_model.predict(X_DF_test_Filtrado.values)\n",
    "print(f1_score(y_test.values, gnb_prediction, average='macro'))"
   ]
  },
  {
   "cell_type": "code",
   "execution_count": 44,
   "metadata": {},
   "outputs": [
    {
     "name": "stdout",
     "output_type": "stream",
     "text": [
      "Crossing\n"
     ]
    },
    {
     "data": {
      "image/png": "[encoded data removed]",
      "text/plain": [
       "<Figure size 432x288 with 1 Axes>"
      ]
     },
     "metadata": {
      "needs_background": "light"
     },
     "output_type": "display_data"
    },
    {
     "name": "stdout",
     "output_type": "stream",
     "text": [
      "Finishing\n"
     ]
    },
    {
     "data": {
      "image/png": "[encoded data removed]",
      "text/plain": [
       "<Figure size 432x288 with 1 Axes>"
      ]
     },
     "metadata": {
      "needs_background": "light"
     },
     "output_type": "display_data"
    },
    {
     "name": "stdout",
     "output_type": "stream",
     "text": [
      "HeadingAccuracy\n"
     ]
    },
    {
     "data": {
      "image/png": "[encoded data removed]",
      "text/plain": [
       "<Figure size 432x288 with 1 Axes>"
      ]
     },
     "metadata": {
      "needs_background": "light"
     },
     "output_type": "display_data"
    },
    {
     "name": "stdout",
     "output_type": "stream",
     "text": [
      "ShortPassing\n"
     ]
    },
    {
     "data": {
      "image/png": "[encoded data removed]",
      "text/plain": [
       "<Figure size 432x288 with 1 Axes>"
      ]
     },
     "metadata": {
      "needs_background": "light"
     },
     "output_type": "display_data"
    },
    {
     "name": "stdout",
     "output_type": "stream",
     "text": [
      "Volleys\n"
     ]
    },
    {
     "data": {
      "image/png": "[encoded data removed]",
      "text/plain": [
       "<Figure size 432x288 with 1 Axes>"
      ]
     },
     "metadata": {
      "needs_background": "light"
     },
     "output_type": "display_data"
    },
    {
     "name": "stdout",
     "output_type": "stream",
     "text": [
      "Dribbling\n"
     ]
    },
    {
     "data": {
      "image/png": "[encoded data removed]",
      "text/plain": [
       "<Figure size 432x288 with 1 Axes>"
      ]
     },
     "metadata": {
      "needs_background": "light"
     },
     "output_type": "display_data"
    },
    {
     "name": "stdout",
     "output_type": "stream",
     "text": [
      "Curve\n"
     ]
    },
    {
     "data": {
      "image/png": "[encoded data removed]",
      "text/plain": [
       "<Figure size 432x288 with 1 Axes>"
      ]
     },
     "metadata": {
      "needs_background": "light"
     },
     "output_type": "display_data"
    },
    {
     "name": "stdout",
     "output_type": "stream",
     "text": [
      "FKAccuracy\n"
     ]
    },
    {
     "data": {
      "image/png": "[encoded data removed]",
      "text/plain": [
       "<Figure size 432x288 with 1 Axes>"
      ]
     },
     "metadata": {
      "needs_background": "light"
     },
     "output_type": "display_data"
    },
    {
     "name": "stdout",
     "output_type": "stream",
     "text": [
      "LongPassing\n"
     ]
    },
    {
     "data": {
      "image/png": "[encoded data removed]",
      "text/plain": [
       "<Figure size 432x288 with 1 Axes>"
      ]
     },
     "metadata": {
      "needs_background": "light"
     },
     "output_type": "display_data"
    },
    {
     "name": "stdout",
     "output_type": "stream",
     "text": [
      "BallControl\n"
     ]
    },
    {
     "data": {
      "image/png": "[encoded data removed]",
      "text/plain": [
       "<Figure size 432x288 with 1 Axes>"
      ]
     },
     "metadata": {
      "needs_background": "light"
     },
     "output_type": "display_data"
    },
    {
     "name": "stdout",
     "output_type": "stream",
     "text": [
      "Acceleration\n"
     ]
    },
    {
     "data": {
      "image/png": "[encoded data removed]",
      "text/plain": [
       "<Figure size 432x288 with 1 Axes>"
      ]
     },
     "metadata": {
      "needs_background": "light"
     },
     "output_type": "display_data"
    },
    {
     "name": "stdout",
     "output_type": "stream",
     "text": [
      "SprintSpeed\n"
     ]
    },
    {
     "data": {
      "image/png": "[encoded data removed]",
      "text/plain": [
       "<Figure size 432x288 with 1 Axes>"
      ]
     },
     "metadata": {
      "needs_background": "light"
     },
     "output_type": "display_data"
    },
    {
     "name": "stdout",
     "output_type": "stream",
     "text": [
      "Agility\n"
     ]
    },
    {
     "data": {
      "image/png": "[encoded data removed]",
      "text/plain": [
       "<Figure size 432x288 with 1 Axes>"
      ]
     },
     "metadata": {
      "needs_background": "light"
     },
     "output_type": "display_data"
    },
    {
     "name": "stdout",
     "output_type": "stream",
     "text": [
      "Reactions\n"
     ]
    },
    {
     "data": {
      "image/png": "[encoded data removed]",
      "text/plain": [
       "<Figure size 432x288 with 1 Axes>"
      ]
     },
     "metadata": {
      "needs_background": "light"
     },
     "output_type": "display_data"
    },
    {
     "name": "stdout",
     "output_type": "stream",
     "text": [
      "Balance\n"
     ]
    },
    {
     "data": {
      "image/png": "[encoded data removed]",
      "text/plain": [
       "<Figure size 432x288 with 1 Axes>"
      ]
     },
     "metadata": {
      "needs_background": "light"
     },
     "output_type": "display_data"
    },
    {
     "name": "stdout",
     "output_type": "stream",
     "text": [
      "ShotPower\n"
     ]
    },
    {
     "data": {
      "image/png": "[encoded data removed]",
      "text/plain": [
       "<Figure size 432x288 with 1 Axes>"
      ]
     },
     "metadata": {
      "needs_background": "light"
     },
     "output_type": "display_data"
    },
    {
     "name": "stdout",
     "output_type": "stream",
     "text": [
      "Stamina\n"
     ]
    },
    {
     "data": {
      "image/png": "[encoded data removed]",
      "text/plain": [
       "<Figure size 432x288 with 1 Axes>"
      ]
     },
     "metadata": {
      "needs_background": "light"
     },
     "output_type": "display_data"
    },
    {
     "name": "stdout",
     "output_type": "stream",
     "text": [
      "Strength\n"
     ]
    },
    {
     "data": {
      "image/png": "[encoded data removed]",
      "text/plain": [
       "<Figure size 432x288 with 1 Axes>"
      ]
     },
     "metadata": {
      "needs_background": "light"
     },
     "output_type": "display_data"
    },
    {
     "name": "stdout",
     "output_type": "stream",
     "text": [
      "LongShots\n"
     ]
    },
    {
     "data": {
      "image/png": "[encoded data removed]",
      "text/plain": [
       "<Figure size 432x288 with 1 Axes>"
      ]
     },
     "metadata": {
      "needs_background": "light"
     },
     "output_type": "display_data"
    },
    {
     "name": "stdout",
     "output_type": "stream",
     "text": [
      "Interceptions\n"
     ]
    },
    {
     "data": {
      "image/png": "[encoded data removed]",
      "text/plain": [
       "<Figure size 432x288 with 1 Axes>"
      ]
     },
     "metadata": {
      "needs_background": "light"
     },
     "output_type": "display_data"
    },
    {
     "name": "stdout",
     "output_type": "stream",
     "text": [
      "Positioning\n"
     ]
    },
    {
     "data": {
      "image/png": "[encoded data removed]",
      "text/plain": [
       "<Figure size 432x288 with 1 Axes>"
      ]
     },
     "metadata": {
      "needs_background": "light"
     },
     "output_type": "display_data"
    },
    {
     "name": "stdout",
     "output_type": "stream",
     "text": [
      "Vision\n"
     ]
    },
    {
     "data": {
      "image/png": "[encoded data removed]",
      "text/plain": [
       "<Figure size 432x288 with 1 Axes>"
      ]
     },
     "metadata": {
      "needs_background": "light"
     },
     "output_type": "display_data"
    },
    {
     "name": "stdout",
     "output_type": "stream",
     "text": [
      "Penalties\n"
     ]
    },
    {
     "data": {
      "image/png": "[encoded data removed]",
      "text/plain": [
       "<Figure size 432x288 with 1 Axes>"
      ]
     },
     "metadata": {
      "needs_background": "light"
     },
     "output_type": "display_data"
    },
    {
     "name": "stdout",
     "output_type": "stream",
     "text": [
      "Composure\n"
     ]
    },
    {
     "data": {
      "image/png": "[encoded data removed]",
      "text/plain": [
       "<Figure size 432x288 with 1 Axes>"
      ]
     },
     "metadata": {
      "needs_background": "light"
     },
     "output_type": "display_data"
    },
    {
     "name": "stdout",
     "output_type": "stream",
     "text": [
      "Marking\n"
     ]
    },
    {
     "data": {
      "image/png": "[encoded data removed]",
      "text/plain": [
       "<Figure size 432x288 with 1 Axes>"
      ]
     },
     "metadata": {
      "needs_background": "light"
     },
     "output_type": "display_data"
    },
    {
     "name": "stdout",
     "output_type": "stream",
     "text": [
      "StandingTackle\n"
     ]
    },
    {
     "data": {
      "image/png": "[encoded data removed]",
      "text/plain": [
       "<Figure size 432x288 with 1 Axes>"
      ]
     },
     "metadata": {
      "needs_background": "light"
     },
     "output_type": "display_data"
    },
    {
     "name": "stdout",
     "output_type": "stream",
     "text": [
      "SlidingTackle\n"
     ]
    },
    {
     "data": {
      "image/png": "[encoded data removed]",
      "text/plain": [
       "<Figure size 432x288 with 1 Axes>"
      ]
     },
     "metadata": {
      "needs_background": "light"
     },
     "output_type": "display_data"
    },
    {
     "name": "stdout",
     "output_type": "stream",
     "text": [
      "GKDiving\n"
     ]
    },
    {
     "data": {
      "image/png": "[encoded data removed]",
      "text/plain": [
       "<Figure size 432x288 with 1 Axes>"
      ]
     },
     "metadata": {
      "needs_background": "light"
     },
     "output_type": "display_data"
    },
    {
     "name": "stdout",
     "output_type": "stream",
     "text": [
      "GKHandling\n"
     ]
    },
    {
     "data": {
      "image/png": "[encoded data removed]",
      "text/plain": [
       "<Figure size 432x288 with 1 Axes>"
      ]
     },
     "metadata": {
      "needs_background": "light"
     },
     "output_type": "display_data"
    },
    {
     "name": "stdout",
     "output_type": "stream",
     "text": [
      "GKKicking\n"
     ]
    },
    {
     "data": {
      "image/png": "[encoded data removed]",
      "text/plain": [
       "<Figure size 432x288 with 1 Axes>"
      ]
     },
     "metadata": {
      "needs_background": "light"
     },
     "output_type": "display_data"
    },
    {
     "name": "stdout",
     "output_type": "stream",
     "text": [
      "GKPositioning\n"
     ]
    },
    {
     "data": {
      "image/png": "[encoded data removed]",
      "text/plain": [
       "<Figure size 432x288 with 1 Axes>"
      ]
     },
     "metadata": {
      "needs_background": "light"
     },
     "output_type": "display_data"
    },
    {
     "name": "stdout",
     "output_type": "stream",
     "text": [
      "GKReflexes\n"
     ]
    },
    {
     "data": {
      "image/png": "[encoded data removed]",
      "text/plain": [
       "<Figure size 432x288 with 1 Axes>"
      ]
     },
     "metadata": {
      "needs_background": "light"
     },
     "output_type": "display_data"
    },
    {
     "name": "stdout",
     "output_type": "stream",
     "text": [
      "International Reputation\n"
     ]
    },
    {
     "data": {
      "image/png": "[encoded data removed]",
      "text/plain": [
       "<Figure size 432x288 with 1 Axes>"
      ]
     },
     "metadata": {
      "needs_background": "light"
     },
     "output_type": "display_data"
    },
    {
     "name": "stdout",
     "output_type": "stream",
     "text": [
      "Overall\n"
     ]
    },
    {
     "data": {
      "image/png": "[encoded data removed]",
      "text/plain": [
       "<Figure size 432x288 with 1 Axes>"
      ]
     },
     "metadata": {
      "needs_background": "light"
     },
     "output_type": "display_data"
    },
    {
     "name": "stdout",
     "output_type": "stream",
     "text": [
      "Potential\n"
     ]
    },
    {
     "data": {
      "image/png": "[encoded data removed]",
      "text/plain": [
       "<Figure size 432x288 with 1 Axes>"
      ]
     },
     "metadata": {
      "needs_background": "light"
     },
     "output_type": "display_data"
    },
    {
     "name": "stdout",
     "output_type": "stream",
     "text": [
      "Value\n"
     ]
    },
    {
     "data": {
      "image/png": "[encoded data removed]",
      "text/plain": [
       "<Figure size 432x288 with 1 Axes>"
      ]
     },
     "metadata": {
      "needs_background": "light"
     },
     "output_type": "display_data"
    },
    {
     "name": "stdout",
     "output_type": "stream",
     "text": [
      "Wage\n"
     ]
    },
    {
     "data": {
      "image/png": "[encoded data removed]",
      "text/plain": [
       "<Figure size 432x288 with 1 Axes>"
      ]
     },
     "metadata": {
      "needs_background": "light"
     },
     "output_type": "display_data"
    },
    {
     "name": "stdout",
     "output_type": "stream",
     "text": [
      "Position_GK\n"
     ]
    },
    {
     "data": {
      "image/png": "[encoded data removed]",
      "text/plain": [
       "<Figure size 432x288 with 1 Axes>"
      ]
     },
     "metadata": {
      "needs_background": "light"
     },
     "output_type": "display_data"
    }
   ],
   "source": [
    "import statsmodels.api as sm\n",
    "for features in X_DF_train_Filtrado.columns:\n",
    "    print(features)\n",
    "    X[features].hist(bins=16)\n",
    "    plt.show()"
   ]
  },
  {
   "cell_type": "code",
   "execution_count": 47,
   "metadata": {},
   "outputs": [
    {
     "data": {
      "image/png": "[encoded data removed]",
      "text/plain": [
       "<Figure size 432x288 with 1 Axes>"
      ]
     },
     "metadata": {
      "needs_background": "light"
     },
     "output_type": "display_data"
    }
   ],
   "source": [
    "sm.qqplot(X_DF_train_Filtrado['Reactions'], line = 's')\n",
    "plt.show()"
   ]
  },
  {
   "cell_type": "code",
   "execution_count": 37,
   "metadata": {},
   "outputs": [
    {
     "data": {
      "text/plain": [
       "count    14325.000000\n",
       "mean        66.209843\n",
       "std          6.954098\n",
       "min         46.000000\n",
       "25%         62.000000\n",
       "50%         66.000000\n",
       "75%         71.000000\n",
       "max         94.000000\n",
       "Name: Overall, dtype: float64"
      ]
     },
     "execution_count": 37,
     "metadata": {},
     "output_type": "execute_result"
    }
   ],
   "source": [
    "estatisticas['Overall']"
   ]
  },
  {
   "cell_type": "code",
   "execution_count": null,
   "metadata": {},
   "outputs": [],
   "source": []
  }
 ],
 "metadata": {
  "kernelspec": {
   "display_name": "Python 3",
   "language": "python",
   "name": "python3"
  },
  "language_info": {
   "codemirror_mode": {
    "name": "ipython",
    "version": 3
   },
   "file_extension": ".py",
   "mimetype": "text/x-python",
   "name": "python",
   "nbconvert_exporter": "python",
   "pygments_lexer": "ipython3",
   "version": "3.7.6"
  }
 },
 "nbformat": 4,
 "nbformat_minor": 4
}
